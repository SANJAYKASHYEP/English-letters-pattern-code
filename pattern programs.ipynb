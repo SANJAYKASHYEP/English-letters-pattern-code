{
 "cells": [
  {
   "cell_type": "code",
   "execution_count": 132,
   "id": "c8dc5674",
   "metadata": {},
   "outputs": [
    {
     "name": "stdout",
     "output_type": "stream",
     "text": [
      "* \n",
      "* * \n",
      "* * * \n",
      "* * * * \n",
      "* * * * * \n"
     ]
    }
   ],
   "source": [
    "import time\n",
    "for i in range(5):\n",
    "    for j in range(i+1):\n",
    "        print(\"*\",end=\" \")\n",
    "        time.sleep(3)\n",
    "        \n",
    "    print()    "
   ]
  },
  {
   "cell_type": "code",
   "execution_count": 10,
   "id": "864f5f4d",
   "metadata": {},
   "outputs": [
    {
     "name": "stdout",
     "output_type": "stream",
     "text": [
      "enter no....5\n",
      "* * * * * \n",
      "* * * * \n",
      "* * * \n",
      "* * \n",
      "* \n",
      "\n"
     ]
    }
   ],
   "source": [
    "import time\n",
    "n=int(input(\"enter no....\"))\n",
    "for i in range(n,-1,-1):  \n",
    "    for j in range(i):\n",
    "        print(\"*\",end=\" \")\n",
    "        time.sleep(1)\n",
    "        \n",
    "    print()   "
   ]
  },
  {
   "cell_type": "code",
   "execution_count": 13,
   "id": "c0f7ca54",
   "metadata": {},
   "outputs": [
    {
     "name": "stdout",
     "output_type": "stream",
     "text": [
      "* \n",
      "* * \n",
      "* * * \n",
      "* * * * \n",
      "* * * * * \n",
      "* * * * \n",
      "* * * \n",
      "* * \n",
      "* \n",
      "\n"
     ]
    }
   ],
   "source": [
    "import time\n",
    "for i in range(5):\n",
    "    for j in range(i+1):\n",
    "        print(\"*\",end=\" \")\n",
    "        time.sleep(3)\n",
    "        \n",
    "    print()    \n",
    "    \n",
    "import time\n",
    "#n=int(input(\"enter no....\"))\n",
    "for i in range(4,-1,-1):  \n",
    "    for j in range(i):\n",
    "        print(\"*\",end=\" \")\n",
    "        time.sleep(1)\n",
    "        \n",
    "    print()       "
   ]
  },
  {
   "cell_type": "code",
   "execution_count": 59,
   "id": "4e0e8a50",
   "metadata": {},
   "outputs": [
    {
     "name": "stdout",
     "output_type": "stream",
     "text": [
      "  * * *   \n",
      "*       * \n",
      "*       * \n",
      "* * * * * \n",
      "*       * \n",
      "*       * \n",
      "*       * \n"
     ]
    }
   ],
   "source": [
    "for i in range(7):\n",
    "    for j in range(5):\n",
    "        if((j==0 or j==4)and i>0)or(i==0 or i==3 )and(0<j<4):\n",
    "            print(\"*\",end=\" \")\n",
    "        else:\n",
    "            print(\"  \",end=\"\")\n",
    "    print()"
   ]
  },
  {
   "cell_type": "code",
   "execution_count": 98,
   "id": "a71a964b",
   "metadata": {},
   "outputs": [
    {
     "name": "stdout",
     "output_type": "stream",
     "text": [
      "* * * * * \n",
      "*          * \n",
      "*          * \n",
      "* * * * * \n",
      "*          * \n",
      "*          * \n",
      "* * * * * \n"
     ]
    }
   ],
   "source": [
    "for i in range(7):\n",
    "    for j in range(5):\n",
    "        if((j==0 or j==4) or (i==0 or i==3 or i==6) and (j<4)):\n",
    "            print(\"*\",end=\" \")\n",
    "        else:\n",
    "            print(\"  \",end=\" \")\n",
    "    print()"
   ]
  },
  {
   "cell_type": "code",
   "execution_count": 99,
   "id": "024e02dd",
   "metadata": {},
   "outputs": [
    {
     "name": "stdout",
     "output_type": "stream",
     "text": [
      "  * * * * \n",
      "*         \n",
      "*         \n",
      "*         \n",
      "*         \n",
      "*         \n",
      "  * * * * \n"
     ]
    }
   ],
   "source": [
    "import time \n",
    "for i in range(7):\n",
    "    for j in range(5):\n",
    "        if((j==0)and (i>0 and i<6)) or ((i==0 or i==6) and j>0 and j<5):\n",
    "            print(\"*\",end=\" \")\n",
    "            time.sleep(1)\n",
    "        else:\n",
    "            print(\" \",end=\" \")\n",
    "            time.sleep(0)\n",
    "    print()\n",
    "    "
   ]
  },
  {
   "cell_type": "code",
   "execution_count": 52,
   "id": "4aa399bd",
   "metadata": {},
   "outputs": [
    {
     "name": "stdout",
     "output_type": "stream",
     "text": [
      "* * * *   \n",
      "*       * \n",
      "*       * \n",
      "*       * \n",
      "*       * \n",
      "*       * \n",
      "* * * *   \n"
     ]
    }
   ],
   "source": [
    "for i in range(7):\n",
    "    for j in range(5):\n",
    "        if(j==0) or (j==4 and (i>0 and i<6)) or ((i==0 or i==6) and j<4):\n",
    "            print(\"*\",end=\" \")\n",
    "        else: \n",
    "            print(\" \",end=\" \")\n",
    "    print()"
   ]
  },
  {
   "cell_type": "code",
   "execution_count": 59,
   "id": "0161c829",
   "metadata": {},
   "outputs": [
    {
     "name": "stdout",
     "output_type": "stream",
     "text": [
      "* * * * * \n",
      "*         \n",
      "*         \n",
      "* * * * * \n",
      "*         \n",
      "*         \n",
      "* * * * * \n"
     ]
    }
   ],
   "source": [
    "import time \n",
    "for i in range(7):\n",
    "    for j in range(5):\n",
    "        if(j==0)or ((i in (0,3,6))):\n",
    "            print(\"*\",end=\" \")\n",
    "        else:\n",
    "            print(\" \",end=\" \")\n",
    "    \n",
    "    print()"
   ]
  },
  {
   "cell_type": "code",
   "execution_count": 100,
   "id": "2a68e774",
   "metadata": {},
   "outputs": [
    {
     "name": "stdout",
     "output_type": "stream",
     "text": [
      "* * * * * \n",
      "*         \n",
      "*         \n",
      "* * * * * \n",
      "*         \n",
      "*         \n",
      "*         \n"
     ]
    }
   ],
   "source": [
    "for i in range(7):\n",
    "    for j in range(5):\n",
    "        if(j==0)or (i in (0,3)):\n",
    "            print(\"*\",end=\" \")\n",
    "        else:\n",
    "            print(\" \",end=\" \")\n",
    "    print()"
   ]
  },
  {
   "cell_type": "code",
   "execution_count": 68,
   "id": "5dc6b6d1",
   "metadata": {},
   "outputs": [
    {
     "name": "stdout",
     "output_type": "stream",
     "text": [
      "  * * * * \n",
      "*         \n",
      "*         \n",
      "*   * * * \n",
      "*   *   * \n",
      "*       * \n",
      "  * * * * \n"
     ]
    }
   ],
   "source": [
    "for i in range(7):\n",
    "    for j in range(5):\n",
    "        if(j==0 and (i>0 and i<6)) or ((i==0 or i==6) and j>0) or (j==4 and i in (3,4,5)) or (i==3 and j in (2,3)) or (i==4 and j==2):\n",
    "            print(\"*\",end=\" \")\n",
    "        else:\n",
    "            print(\" \", end=\" \")\n",
    "    print()"
   ]
  },
  {
   "cell_type": "code",
   "execution_count": 69,
   "id": "c7144c1b",
   "metadata": {},
   "outputs": [
    {
     "name": "stdout",
     "output_type": "stream",
     "text": [
      "*       * \n",
      "*       * \n",
      "*       * \n",
      "* * * * * \n",
      "*       * \n",
      "*       * \n",
      "*       * \n"
     ]
    }
   ],
   "source": [
    "for i in range(7):\n",
    "    for j in range(5):\n",
    "        if(j==0 or j==4) or (i==3):\n",
    "            print(\"*\",end=\" \")\n",
    "        else:\n",
    "            print(\" \",end=\" \")\n",
    "    print()\n",
    "        "
   ]
  },
  {
   "cell_type": "code",
   "execution_count": 76,
   "id": "1256237f",
   "metadata": {},
   "outputs": [
    {
     "name": "stdout",
     "output_type": "stream",
     "text": [
      "* * * * * \n",
      "    *     \n",
      "    *     \n",
      "    *     \n",
      "    *     \n",
      "    *     \n",
      "* * * * * \n"
     ]
    }
   ],
   "source": [
    "for i in range(7):\n",
    "    for j in range(5):\n",
    "        if(j==2) or (i in (0,6)):\n",
    "            print(\"*\",end=\" \")\n",
    "        else:\n",
    "            print(\" \",end=\" \")\n",
    "    print()"
   ]
  },
  {
   "cell_type": "code",
   "execution_count": 75,
   "id": "0d8fa023",
   "metadata": {},
   "outputs": [
    {
     "data": {
      "text/plain": [
       "[1, 8, 15, 22, 29, 36, 43, 50]"
      ]
     },
     "execution_count": 75,
     "metadata": {},
     "output_type": "execute_result"
    }
   ],
   "source": [
    "list(range(1,51,7))"
   ]
  },
  {
   "cell_type": "code",
   "execution_count": 78,
   "id": "a51d9866",
   "metadata": {},
   "outputs": [
    {
     "name": "stdout",
     "output_type": "stream",
     "text": [
      "* * * * * \n",
      "    *     \n",
      "    *     \n",
      "    *     \n",
      "    *     \n",
      "*   *     \n",
      "  * *     \n"
     ]
    }
   ],
   "source": [
    "for i in range(7):\n",
    "    for j in range(5):\n",
    "        if(i==0)or(j==2)or(i==6 and j==1)or (i==5 and j==0):\n",
    "            print(\"*\",end=\" \")\n",
    "        else:\n",
    "            print(\" \",end=\" \")\n",
    "    print()"
   ]
  },
  {
   "cell_type": "code",
   "execution_count": 96,
   "id": "2b9ce663",
   "metadata": {},
   "outputs": [
    {
     "name": "stdout",
     "output_type": "stream",
     "text": [
      "*       * \n",
      "*     *   \n",
      "*   *     \n",
      "* *       \n",
      "*   *     \n",
      "*     *   \n",
      "*       * \n"
     ]
    }
   ],
   "source": [
    "for i in range(7):\n",
    "    for j in range(5):\n",
    "        if(j==0)or(i==j+2) or(i==4-j):\n",
    "            print(\"*\",end=\" \")\n",
    "            \n",
    "        else:\n",
    "            print(\" \",end=\" \")\n",
    "    print()         "
   ]
  },
  {
   "cell_type": "code",
   "execution_count": 97,
   "id": "a469a40c",
   "metadata": {},
   "outputs": [
    {
     "name": "stdout",
     "output_type": "stream",
     "text": [
      "*         \n",
      "*         \n",
      "*         \n",
      "*         \n",
      "*         \n",
      "*         \n",
      "* * * * * \n"
     ]
    }
   ],
   "source": [
    "for i in range(7):\n",
    "    for j in range(5):\n",
    "        if(j==0)or (i==6):\n",
    "            print(\"*\",end=\" \")\n",
    "        else:\n",
    "            print(\" \",end=\" \")\n",
    "    print()"
   ]
  },
  {
   "cell_type": "code",
   "execution_count": 121,
   "id": "97568c42",
   "metadata": {},
   "outputs": [
    {
     "name": "stdout",
     "output_type": "stream",
     "text": [
      "*           * \n",
      "* *       * * \n",
      "*   *   *   * \n",
      "*     *     * \n",
      "*           * \n",
      "*           * \n",
      "*           * \n"
     ]
    }
   ],
   "source": [
    "for i in range(7):\n",
    "    for j in range(7):\n",
    "        if((i==j or i==6-j) and (i<4)) or(j in (0,6)):\n",
    "            print(\"*\",end=\" \")\n",
    "        else:\n",
    "            print(\" \",end=\" \")\n",
    "    print()"
   ]
  },
  {
   "cell_type": "code",
   "execution_count": 122,
   "id": "4031e45e",
   "metadata": {},
   "outputs": [
    {
     "name": "stdout",
     "output_type": "stream",
     "text": [
      "*           * \n",
      "* *         * \n",
      "*   *       * \n",
      "*     *     * \n",
      "*       *   * \n",
      "*         * * \n",
      "*           * \n"
     ]
    }
   ],
   "source": [
    "for i in range(7):\n",
    "    for j in range(7):\n",
    "        if(j in (0,6)) or (i==j):\n",
    "            print(\"*\",end=\" \")\n",
    "        else:\n",
    "            print(\" \",end=\" \")\n",
    "    print()"
   ]
  },
  {
   "cell_type": "code",
   "execution_count": 129,
   "id": "7732e78c",
   "metadata": {},
   "outputs": [
    {
     "name": "stdout",
     "output_type": "stream",
     "text": [
      "  * * * * *   \n",
      "*           * \n",
      "*           * \n",
      "*           * \n",
      "*           * \n",
      "*           * \n",
      "  * * * * *   \n"
     ]
    }
   ],
   "source": [
    "for i in range(7):\n",
    "    for j in range(7):\n",
    "        if(j in(0,6) and (0<i<6)) or ((i in (0,6) and 0<j<6)) :\n",
    "            print(\"*\",end=\" \")\n",
    "        else:\n",
    "            print(\" \",end=\" \")\n",
    "    print()"
   ]
  },
  {
   "cell_type": "code",
   "execution_count": 16,
   "id": "de03aeea",
   "metadata": {},
   "outputs": [
    {
     "name": "stdout",
     "output_type": "stream",
     "text": [
      "* * * * * *   \n",
      "*           * \n",
      "*           * \n",
      "* * * * * *   \n",
      "*             \n",
      "*             \n",
      "*             \n"
     ]
    }
   ],
   "source": [
    "for i in range(7):\n",
    "    for j in range(7):\n",
    "        if(j==0) or (i in (0,3) and j<6) or (j==6 and (0<i<3)):\n",
    "            print(\"*\",end=\" \")\n",
    "        else:\n",
    "            print(\" \",end=\" \")\n",
    "    print()"
   ]
  },
  {
   "cell_type": "code",
   "execution_count": 13,
   "id": "848da8e6",
   "metadata": {},
   "outputs": [
    {
     "name": "stdout",
     "output_type": "stream",
     "text": [
      "* * * * * *   \n",
      "*           * \n",
      "*           * \n",
      "* * * * * *   \n",
      "*     *       \n",
      "*       *     \n",
      "*         *   \n"
     ]
    }
   ],
   "source": [
    "for i in range(7):\n",
    "    for j in range(7):\n",
    "        if(j==0)or ((i in (0,3) and j<6))or(j==6 and 0<i<3) or(j==3 and i==4) or ((j==4)and i==5) or ((j==5 and (i==6))):\n",
    "            print(\"*\",end=\" \")\n",
    "        else:\n",
    "            print(\" \",end=\" \")\n",
    "    print()"
   ]
  },
  {
   "cell_type": "code",
   "execution_count": 32,
   "id": "fe700fe6",
   "metadata": {},
   "outputs": [
    {
     "name": "stdout",
     "output_type": "stream",
     "text": [
      "  * * * * * * \n",
      "*             \n",
      "*             \n",
      "  * * * * *   \n",
      "            * \n",
      "            * \n",
      "* * * * * *   \n"
     ]
    }
   ],
   "source": [
    "for i in range(7):\n",
    "    for j in range(7):\n",
    "        if((j==0) and (0<i<3)) or((j==6)and (i in (0,4,5))) or (i==6 and j<6)or (i==0 and j>0)or (i==3 and 0<j<6):\n",
    "            print(\"*\",end=\" \")\n",
    "        else:\n",
    "            print(\" \",end=\" \")\n",
    "    print()\n",
    "            "
   ]
  },
  {
   "cell_type": "code",
   "execution_count": 36,
   "id": "4353c12c",
   "metadata": {},
   "outputs": [
    {
     "name": "stdout",
     "output_type": "stream",
     "text": [
      "* * * * * * * \n",
      "      *       \n",
      "      *       \n",
      "      *       \n",
      "      *       \n",
      "      *       \n",
      "      *       \n"
     ]
    }
   ],
   "source": [
    "for i in range(7):\n",
    "    for j in range(7):\n",
    "        if(i==0 ) or (j==3):\n",
    "            print(\"*\",end=\" \")\n",
    "        else:\n",
    "            print(\" \",end=\" \")\n",
    "    print()"
   ]
  },
  {
   "cell_type": "code",
   "execution_count": 39,
   "id": "ef441bba",
   "metadata": {},
   "outputs": [
    {
     "name": "stdout",
     "output_type": "stream",
     "text": [
      "*           * \n",
      "*           * \n",
      "*           * \n",
      "*           * \n",
      "*           * \n",
      "*           * \n",
      "  * * * * *   \n"
     ]
    }
   ],
   "source": [
    "for i in range(7):\n",
    "    for j in range(7):\n",
    "        if((j in (0,6) and i<6)) or (i==6 and 0<j<6):\n",
    "            print(\"*\",end=\" \")\n",
    "        else:\n",
    "            print(\" \",end=\" \")\n",
    "    print()"
   ]
  },
  {
   "cell_type": "code",
   "execution_count": 100,
   "id": "67f931b2",
   "metadata": {},
   "outputs": [
    {
     "name": "stdout",
     "output_type": "stream",
     "text": [
      "*     *\n",
      " *   * \n",
      "  * *  \n",
      "   *   \n",
      "       \n",
      "       \n",
      "       \n"
     ]
    }
   ],
   "source": [
    "for i in range(7):\n",
    "    for j in range(7):\n",
    "        if(j==6-i and i<4) or (i==j and j<4):\n",
    "            print(\"*\",end=\"\")\n",
    "        else:\n",
    "            print(\" \",end=\"\")\n",
    "    print()"
   ]
  },
  {
   "cell_type": "code",
   "execution_count": 97,
   "id": "a3d7c73c",
   "metadata": {},
   "outputs": [
    {
     "name": "stdout",
     "output_type": "stream",
     "text": [
      "*           * \n",
      "*           * \n",
      "*           * \n",
      "*     *     * \n",
      "*   *   *   * \n",
      "* *       * * \n",
      "*           * \n"
     ]
    }
   ],
   "source": [
    "for i in range(7):\n",
    "    for j in range(7):\n",
    "        if((i==j or i==6-j) and (2<i)) or(j in (0,6)):\n",
    "            print(\"*\",end=\" \")\n",
    "        else:\n",
    "            print(\" \",end=\" \")\n",
    "    print()"
   ]
  },
  {
   "cell_type": "code",
   "execution_count": 89,
   "id": "69f9cbc1",
   "metadata": {},
   "outputs": [
    {
     "name": "stdout",
     "output_type": "stream",
     "text": [
      "*           * \n",
      "  *       *   \n",
      "    *   *     \n",
      "      *       \n",
      "    *   *     \n",
      "  *       *   \n",
      "*           * \n"
     ]
    }
   ],
   "source": [
    "for i in range(7):\n",
    "    for j in range(7):\n",
    "        if(i==j)or (i==6-j):\n",
    "            print(\"*\",end=\" \")\n",
    "        else:\n",
    "            print(\" \",end=\" \")\n",
    "    print()"
   ]
  },
  {
   "cell_type": "code",
   "execution_count": 94,
   "id": "39f21a98",
   "metadata": {},
   "outputs": [
    {
     "name": "stdout",
     "output_type": "stream",
     "text": [
      "*           * \n",
      "  *       *   \n",
      "    *   *     \n",
      "      *       \n",
      "              \n",
      "      *       \n",
      "      *       \n"
     ]
    }
   ],
   "source": [
    "for i in range(7):\n",
    "    for j in range(7):\n",
    "        if(j==3 and i>4) or (i==j and i<4) or (i==6-j and i<4):\n",
    "            print(\"*\",end=\" \")\n",
    "        else:\n",
    "            print(\" \",end=\" \")\n",
    "    print()\n",
    "            \n",
    "    \n",
    "            "
   ]
  },
  {
   "cell_type": "code",
   "execution_count": 71,
   "id": "28ee98cf",
   "metadata": {},
   "outputs": [
    {
     "name": "stdout",
     "output_type": "stream",
     "text": [
      "* * * * * * * \n",
      "          *   \n",
      "        *     \n",
      "      *       \n",
      "    *         \n",
      "  *           \n",
      "* * * * * * * \n"
     ]
    }
   ],
   "source": [
    "for i in range(7):\n",
    "    for j in range(7):\n",
    "        if(i in (0,6)) or (j==6-i):\n",
    "            print(\"*\",end=\" \")\n",
    "        else:\n",
    "            print(\" \",end=\" \")\n",
    "    print()"
   ]
  },
  {
   "cell_type": "code",
   "execution_count": null,
   "id": "8f0ebafc",
   "metadata": {},
   "outputs": [],
   "source": []
  },
  {
   "cell_type": "code",
   "execution_count": null,
   "id": "cf2138dc",
   "metadata": {},
   "outputs": [],
   "source": []
  },
  {
   "cell_type": "code",
   "execution_count": null,
   "id": "85093d26",
   "metadata": {},
   "outputs": [],
   "source": []
  },
  {
   "cell_type": "code",
   "execution_count": null,
   "id": "0f4c2821",
   "metadata": {},
   "outputs": [],
   "source": []
  },
  {
   "cell_type": "code",
   "execution_count": null,
   "id": "845061e3",
   "metadata": {},
   "outputs": [],
   "source": []
  }
 ],
 "metadata": {
  "kernelspec": {
   "display_name": "Python 3 (ipykernel)",
   "language": "python",
   "name": "python3"
  },
  "language_info": {
   "codemirror_mode": {
    "name": "ipython",
    "version": 3
   },
   "file_extension": ".py",
   "mimetype": "text/x-python",
   "name": "python",
   "nbconvert_exporter": "python",
   "pygments_lexer": "ipython3",
   "version": "3.9.12"
  }
 },
 "nbformat": 4,
 "nbformat_minor": 5
}
